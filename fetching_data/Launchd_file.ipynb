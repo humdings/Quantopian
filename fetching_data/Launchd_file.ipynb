{
 "metadata": {
  "name": "",
  "signature": "sha256:4d1b112e589079c8db5fd4f2c4b1dea266dfb5d9ee6924912ae96411c9d06a09"
 },
 "nbformat": 3,
 "nbformat_minor": 0,
 "worksheets": [
  {
   "cells": [
    {
     "cell_type": "markdown",
     "metadata": {},
     "source": [
      "<H3>Example Launchd file"
     ]
    },
    {
     "cell_type": "raw",
     "metadata": {},
     "source": [
      "<?xml version=\"1.0\" encoding=\"UTF-8\"?>\n",
      "<!DOCTYPE plist PUBLIC \"-//Apple//DTD PLIST 1.0//EN\" \"http://www.apple.com/DTDs/PropertyList-1.0.dtd\">\n",
      "<plist version=\"1.0\">\n",
      "<dict>\n",
      "    <key>Label</key>\n",
      "    <string>com.dedwards.update_fetcher</string>\n",
      "    <key>ProgramArguments</key>\n",
      "    <array>\n",
      "        <string>/usr/bin/python</string>\n",
      "        <string>/Users/dedwards/dropbox/data/update_fetcher.py</string>\n",
      "    </array>\n",
      "    <key>StartCalendarInterval</key>\n",
      "    <dict>\n",
      "        <key>Hour</key><integer>18</integer>\n",
      "        <key>Minute</key><integer>45</integer>\n",
      "    </dict>\n",
      "</dict>\n",
      "</plist>"
     ]
    }
   ],
   "metadata": {}
  }
 ]
}